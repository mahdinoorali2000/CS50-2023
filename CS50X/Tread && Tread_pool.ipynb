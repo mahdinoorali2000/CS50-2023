{
  "nbformat": 4,
  "nbformat_minor": 0,
  "metadata": {
    "colab": {
      "provenance": []
    },
    "kernelspec": {
      "name": "python3",
      "display_name": "Python 3"
    },
    "language_info": {
      "name": "python"
    }
  },
  "cells": [
    {
      "cell_type": "markdown",
      "source": [
        "###Thread:"
      ],
      "metadata": {
        "id": "gnMEpktmJdEP"
      }
    },
    {
      "cell_type": "code",
      "execution_count": null,
      "metadata": {
        "id": "akNf4jKb287W"
      },
      "outputs": [],
      "source": [
        "import sys\n",
        "import threading\n",
        "\n",
        "sum = 0\n",
        "lock = threading.Lock()\n",
        "\n",
        "def total(number):\n",
        "    global sum\n",
        "    local_sum = 0\n",
        "    for i in range(int(number) + 1):\n",
        "        local_sum += i\n",
        "    with lock:\n",
        "        sum += local_sum\n",
        "\n",
        "def main():\n",
        "    number = sys.argv[1]\n",
        "    thread = threading.Thread(target=total, args=(number,))\n",
        "    thread.start()\n",
        "    thread.join()\n",
        "    print(f\"sum = {sum}\")\n",
        "\n",
        "if __name__ == \"__main__\":\n",
        "    main()\n",
        "\n"
      ]
    },
    {
      "cell_type": "markdown",
      "source": [
        "###Thread pool:"
      ],
      "metadata": {
        "id": "D0tLE3QOJlt9"
      }
    },
    {
      "cell_type": "code",
      "source": [
        "import sys\n",
        "import concurrent.futures\n",
        "import threading\n",
        "\n",
        "sum = 0\n",
        "lock = threading.Lock()\n",
        "\n",
        "def total(number):\n",
        "    global sum\n",
        "    local_sum = 0\n",
        "    for i in range(int(number) + 1):\n",
        "        local_sum += i\n",
        "    with lock:\n",
        "        sum += local_sum\n",
        "\n",
        "def main():\n",
        "    number = sys.argv[1]\n",
        "    with concurrent.futures.ThreadPoolExecutor(max_workers=6) as execute:\n",
        "        execute.submit(total, number)\n",
        "    print(f\"sum = {sum}\")\n",
        "\n",
        "if __name__ == \"__main__\":\n",
        "    main()"
      ],
      "metadata": {
        "id": "b5YEcNByJZ2t"
      },
      "execution_count": null,
      "outputs": []
    }
  ]
}